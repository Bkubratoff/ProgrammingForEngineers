{
 "cells": [
  {
   "cell_type": "markdown",
   "id": "1845485c",
   "metadata": {},
   "source": [
    "# Introducción a Python\n",
    "\n",
    "En el jupyter notebook puede escribir codigo de python, también formulas, insertar imágenes y texto.  Estos siguen el formato markdown y latex para ecuaciones.\n",
    "\n",
    "Cabe destacar que para portar el código aquí probado es necesario escribir el código en un archivo de texto y guardarlo como un script de python.\n",
    "\n",
    "Existen varias maneras de correr un notebook o realizar acciones.  Ayudese de la barra de herramientas y los iconos visuale que se muestran, de seguro algunos le serán bastante familiares de las herramientas de office y otros son mas intuitivos.\n",
    "\n",
    "Ahora experimentemos con el shell scripting."
   ]
  },
  {
   "cell_type": "markdown",
   "id": "4e518642",
   "metadata": {},
   "source": [
    "### Escribir un programa en python\n",
    "\n",
    "La siguientes lineas abajo utilizan algo especial de jupyter notebooks llamado 'magic words' nos permiten algunas llamadas rápidas a funciones para no perder tiempo o realizar acciones especiales.\n",
    "\n",
    "En el caso inferior vamos a grabar todo lo que esté debajo de la primera línea que guarda un archivo llamado *program.py*, todo lo que esté debajo de esta línea se guardará como programa."
   ]
  },
  {
   "cell_type": "code",
   "execution_count": 1,
   "id": "84be252f",
   "metadata": {},
   "outputs": [
    {
     "name": "stdout",
     "output_type": "stream",
     "text": [
      "Overwriting program.py\n"
     ]
    }
   ],
   "source": [
    "%%writefile program.py\n",
    "\n",
    "# Es un ejemplo de imprimir en python\n",
    "\n",
    "print(5/2)\n",
    "\n",
    "print(7+1)"
   ]
  },
  {
   "cell_type": "markdown",
   "id": "6990f517",
   "metadata": {},
   "source": [
    "Debajo listamos el contenido DE LA CARPETA ACTUAL en la que estamos.  Notamos que se grabó un archivo que inicialmente no estaba presente"
   ]
  },
  {
   "cell_type": "code",
   "execution_count": 2,
   "id": "41ca1826",
   "metadata": {},
   "outputs": [
    {
     "data": {
      "text/plain": [
       "'C:\\\\Users\\\\Denys\\\\Downloads\\\\Programming for Engineers\\\\Laboratories'"
      ]
     },
     "execution_count": 2,
     "metadata": {},
     "output_type": "execute_result"
    }
   ],
   "source": [
    "# print working directory\n",
    "%pwd "
   ]
  },
  {
   "cell_type": "code",
   "execution_count": 3,
   "id": "566cdbc2",
   "metadata": {
    "scrolled": true
   },
   "outputs": [
    {
     "name": "stdout",
     "output_type": "stream",
     "text": [
      " El volumen de la unidad C es OS\n",
      " El n£mero de serie del volumen es: CE4B-7E93\n",
      "\n",
      " Directorio de C:\\Users\\Denys\\Downloads\\Programming for Engineers\\Laboratories\n",
      "\n",
      "06/02/2022  02:20 p.ÿm.    <DIR>          .\n",
      "06/02/2022  02:20 p.ÿm.    <DIR>          ..\n",
      "06/02/2022  11:41 a.ÿm.    <DIR>          .ipynb_checkpoints\n",
      "06/02/2022  02:20 p.ÿm.            16,975 Introducci¢n a Python.ipynb\n",
      "06/02/2022  02:21 p.ÿm.                69 program.py\n",
      "               2 archivos         17,044 bytes\n",
      "               3 dirs  508,596,518,912 bytes libres\n"
     ]
    }
   ],
   "source": [
    "#list files in working directory\n",
    "%ls"
   ]
  },
  {
   "cell_type": "markdown",
   "id": "1595f3b2",
   "metadata": {},
   "source": [
    "Esta es la manera de ejecutar un programa en un notebook de jupyter, sin embargo si estamos en la terminal, es decir, en el anaconda prompt la línea inferior se realiza sin el primer símbolo."
   ]
  },
  {
   "cell_type": "code",
   "execution_count": 4,
   "id": "a7ecec8c",
   "metadata": {
    "scrolled": true
   },
   "outputs": [
    {
     "name": "stdout",
     "output_type": "stream",
     "text": [
      "2.5\n",
      "8\n"
     ]
    }
   ],
   "source": [
    "!python program.py"
   ]
  },
  {
   "cell_type": "markdown",
   "id": "c9807a3b",
   "metadata": {},
   "source": [
    "Felicidades!.  Ya sabe como ejecutar un notebook y también como guardar archivos utilizando esta interfaz.  Ahora pruebe en la terminal de anaconda activando el ambiente y ejecute el programa, debería ver el mismo resultado.\n",
    "\n",
    "Como la terminal actual está ocupada por el kernel de jupyter necesitará abrir otro prompt de anaconda y activar el ambiente."
   ]
  },
  {
   "cell_type": "markdown",
   "id": "fced42d6",
   "metadata": {},
   "source": [
    "### Aplicando Matemática en Python\n",
    "\n",
    "De ahora en adelante solo utilizaremos el notebook.  Empezaremos con matemática sencilla para realizar calentamientos, es decir sumas, restas, multiplicación y división."
   ]
  },
  {
   "cell_type": "code",
   "execution_count": 5,
   "id": "242fd128",
   "metadata": {},
   "outputs": [
    {
     "name": "stdout",
     "output_type": "stream",
     "text": [
      "10\n",
      "0\n",
      "15\n",
      "5.0\n",
      "4\n",
      "16\n"
     ]
    }
   ],
   "source": [
    "# Suma y resta\n",
    "print(5 + 5)\n",
    "print(5 - 5)\n",
    "\n",
    "# Multiplicacion, división, módulo y potenciación\n",
    "print(3 * 5)\n",
    "print(10 / 2)\n",
    "print(18 % 7)\n",
    "print(4 ** 2)"
   ]
  },
  {
   "cell_type": "markdown",
   "id": "d5fb6829",
   "metadata": {},
   "source": [
    "#### Problema 1\n",
    "\n",
    "Suponga que tiene 100 dólares, los cuales ud invierte y adquiere un 10% anual de retorno.\n",
    "Añada el código y calcule el interes compuesto para 7 años de inversión bancaria e imprima el resultado"
   ]
  },
  {
   "cell_type": "code",
   "execution_count": 6,
   "id": "dc119fc9",
   "metadata": {},
   "outputs": [],
   "source": [
    "# Calculando el interes compuesto\n"
   ]
  },
  {
   "cell_type": "markdown",
   "id": "ed5dacbb",
   "metadata": {},
   "source": [
    "Resultado a problema 1: 194.87171000000012"
   ]
  },
  {
   "cell_type": "markdown",
   "id": "ca21c099",
   "metadata": {},
   "source": [
    "### Asignación de Variables\n",
    "\n",
    "En python una variable se refiere al valor con respecto al nombre.  Para crear una variable use el = como en el ejemplo inferior.\n"
   ]
  },
  {
   "cell_type": "code",
   "execution_count": 7,
   "id": "abcb4e49",
   "metadata": {},
   "outputs": [],
   "source": [
    "a = 1"
   ]
  },
  {
   "cell_type": "markdown",
   "id": "3aa35d2e",
   "metadata": {},
   "source": [
    "Ahora puede utilizar esta variabe 'a' en vez de utilizar el valor 5.\n",
    "Recuerde, = en python significa asignación.  No significa igualdad."
   ]
  },
  {
   "cell_type": "markdown",
   "id": "00c763aa",
   "metadata": {},
   "source": [
    "#### Problema 2\n",
    "\n",
    "Cree una variable llamada 'ahorros' con el valor 100\n",
    "\n",
    "Imprima la variable"
   ]
  },
  {
   "cell_type": "code",
   "execution_count": 8,
   "id": "116cef0c",
   "metadata": {},
   "outputs": [
    {
     "name": "stdout",
     "output_type": "stream",
     "text": [
      "Object ` = ` not found.\n",
      "Object `(?)` not found.\n"
     ]
    }
   ],
   "source": [
    "# Crear la variable ahorros\n",
    "? = ?\n",
    "\n",
    "# Imprimir el valor\n",
    "?(?)"
   ]
  },
  {
   "cell_type": "markdown",
   "id": "02102651",
   "metadata": {},
   "source": [
    "Resultado a problema 2: 100"
   ]
  },
  {
   "cell_type": "markdown",
   "id": "1d2fdce7",
   "metadata": {},
   "source": [
    "### Calculo con las variables\n",
    "\n",
    "Recuerda en líneas anteriores como calculó el valor del dinero despues de 7 años de inversión?\n",
    "\n",
    "100 * 1.1 ** 7"
   ]
  },
  {
   "cell_type": "markdown",
   "id": "5ede2bad",
   "metadata": {},
   "source": [
    "#### Problema 3\n",
    "\n",
    "En vez de calcular con los valores actuales ud puede utilizar variables.\n",
    "\n",
    "Siga los siguientes pasos para realizarlo de manera con variables."
   ]
  },
  {
   "cell_type": "code",
   "execution_count": 9,
   "id": "84a94a39",
   "metadata": {},
   "outputs": [
    {
     "ename": "SyntaxError",
     "evalue": "invalid syntax (<ipython-input-9-5f3e668c9229>, line 2)",
     "output_type": "error",
     "traceback": [
      "\u001b[1;36m  File \u001b[1;32m\"<ipython-input-9-5f3e668c9229>\"\u001b[1;36m, line \u001b[1;32m2\u001b[0m\n\u001b[1;33m    ahorros = ?\u001b[0m\n\u001b[1;37m              ^\u001b[0m\n\u001b[1;31mSyntaxError\u001b[0m\u001b[1;31m:\u001b[0m invalid syntax\n"
     ]
    }
   ],
   "source": [
    "# Crear la variable ahorros y asignarle el valor de 100\n",
    "ahorros = ?\n",
    "\n",
    "# Crear la variable multiplicador anual\n",
    "mult_anual = ?\n",
    "\n",
    "# Calcular el resultado del interes compuesto\n",
    "result = ?\n",
    "\n",
    "# Print out result\n",
    "print(?)"
   ]
  },
  {
   "cell_type": "markdown",
   "id": "920bbb02",
   "metadata": {},
   "source": [
    "Resultado de problema 3: 194.87171000000012"
   ]
  },
  {
   "cell_type": "markdown",
   "id": "259181e1",
   "metadata": {},
   "source": [
    "### Otras Variables"
   ]
  },
  {
   "cell_type": "markdown",
   "id": "a929cb6b",
   "metadata": {},
   "source": [
    "En la enterega previa trabajó con los tipos de datos:\n",
    "\n",
    "int, o integer: un numero sin parte fraccionaria. 'ahorros', con el valor 100, es un ejemplo de entero.\n",
    "float, o floating point: es un númerp que tiene tanto parte entera como fraccionariaseparada por un punto. mult_anual, con el valor 1.1, es un ejemplo de flotante.\n",
    "\n",
    "Seguido de data numérica existen otros tipos de datos:\n",
    "\n",
    "str, o string: es un tipo de datos que representa texto.  Puede usar '' o \"\" para representarlos.\n",
    "bool, o boolean: es un tipo de dato lógico. Solamente puede ser True o False.  Note que True y False van en mayúsculas las primeras líneas."
   ]
  },
  {
   "cell_type": "markdown",
   "id": "36027a66",
   "metadata": {},
   "source": [
    "#### Problema 4\n",
    "\n",
    "Crear una nueva variable llamada 'desc' de tipo 'string' que contenca la palabra 'cadena de texto' \n",
    "Crear un nuevo booleano llamado 'profit' que tenga asignado el valor True"
   ]
  },
  {
   "cell_type": "code",
   "execution_count": 10,
   "id": "5a0de07a",
   "metadata": {},
   "outputs": [],
   "source": [
    "# Crear la variable de cadena desc\n",
    "\n",
    "# Crear la variable booleana profit "
   ]
  },
  {
   "cell_type": "markdown",
   "id": "ab209092",
   "metadata": {},
   "source": [
    "#### Adivine el tipo\n",
    "\n",
    "\n",
    "Se peude saber el tipo de valor o variable utilizando la función type().  Supongase que no ha definido una variable pero ha olvidado el tipo de variable.  Para saber esta cual es simplemente ejecute:\n",
    "type(a)\n",
    "\n",
    "Pruebe en las seciones siguientes para saber los tipos de variable de resultado"
   ]
  },
  {
   "cell_type": "code",
   "execution_count": 11,
   "id": "6a137c2b",
   "metadata": {},
   "outputs": [
    {
     "name": "stdout",
     "output_type": "stream",
     "text": [
      "<class 'int'>\n",
      "<class 'float'>\n"
     ]
    }
   ],
   "source": [
    "print(type(3))\n",
    "var = 2.0\n",
    "print(type(var))"
   ]
  },
  {
   "cell_type": "markdown",
   "id": "92c929bd",
   "metadata": {},
   "source": [
    "### Operaciones con Otros Tipos\n",
    "\n",
    "Diferentes tipos se comportan de manera diferente en python.\n",
    "\n",
    "Cuando se suman dos cadenas por ejemplo tienes diferentes comportamientos que no son los mismos a sumar dos enteros o sumar dos booleanos.\n",
    "\n",
    "En el siguiente script algunas variables se comportand e manera diferente por el tipo de variable creada. Use algunas"
   ]
  },
  {
   "cell_type": "markdown",
   "id": "76a7178a",
   "metadata": {},
   "source": [
    "#### Problema 5\n",
    "\n",
    "Calcule el producto de los ahorros y el multiplicador, almacene el resultado en la palabra año."
   ]
  },
  {
   "cell_type": "code",
   "execution_count": 12,
   "id": "dbda52a3",
   "metadata": {},
   "outputs": [
    {
     "ename": "SyntaxError",
     "evalue": "invalid syntax (<ipython-input-12-3cc5667de576>, line 6)",
     "output_type": "error",
     "traceback": [
      "\u001b[1;36m  File \u001b[1;32m\"<ipython-input-12-3cc5667de576>\"\u001b[1;36m, line \u001b[1;32m6\u001b[0m\n\u001b[1;33m    año1 = ?\u001b[0m\n\u001b[1;37m           ^\u001b[0m\n\u001b[1;31mSyntaxError\u001b[0m\u001b[1;31m:\u001b[0m invalid syntax\n"
     ]
    }
   ],
   "source": [
    "ahorros = 100\n",
    "mult = 1.1\n",
    "desc = 'interes compuesto'\n",
    "\n",
    "# Asignar el producto de ahorros y mult a años e imprimir\n",
    "año1 = ?\n",
    "print(?)"
   ]
  },
  {
   "cell_type": "markdown",
   "id": "d15e53eb",
   "metadata": {},
   "source": [
    "Resultado anterior:110.00000000000001"
   ]
  },
  {
   "cell_type": "markdown",
   "id": "48aa222a",
   "metadata": {},
   "source": [
    "¿Cuál cree ud que será el resultado del tipo de datos que encontraremos?  Encuentrelos imprimiendo el valor de la variable 'año1'\n"
   ]
  },
  {
   "cell_type": "code",
   "execution_count": 13,
   "id": "c255ac74",
   "metadata": {},
   "outputs": [],
   "source": [
    "# Imprima el tipo de datos de año1\n"
   ]
  },
  {
   "cell_type": "markdown",
   "id": "753330fd",
   "metadata": {},
   "source": [
    "Calcule la suma de 'desc' y 'desc' y tenga de resultado 'doubledesc'"
   ]
  },
  {
   "cell_type": "code",
   "execution_count": 14,
   "id": "d9ffc6fe",
   "metadata": {},
   "outputs": [
    {
     "ename": "SyntaxError",
     "evalue": "invalid syntax (<ipython-input-14-81a00a45c850>, line 2)",
     "output_type": "error",
     "traceback": [
      "\u001b[1;36m  File \u001b[1;32m\"<ipython-input-14-81a00a45c850>\"\u001b[1;36m, line \u001b[1;32m2\u001b[0m\n\u001b[1;33m    dobledesc = ? ? ?\u001b[0m\n\u001b[1;37m                ^\u001b[0m\n\u001b[1;31mSyntaxError\u001b[0m\u001b[1;31m:\u001b[0m invalid syntax\n"
     ]
    }
   ],
   "source": [
    "# Asigne la sume de desc y desc en dobledesc\n",
    "dobledesc = ? ? ?"
   ]
  },
  {
   "cell_type": "code",
   "execution_count": 15,
   "id": "80a0c787",
   "metadata": {},
   "outputs": [
    {
     "name": "stdout",
     "output_type": "stream",
     "text": [
      "Object `(?)` not found.\n"
     ]
    }
   ],
   "source": [
    "# imprimir dobledesc\n",
    "?(?)"
   ]
  },
  {
   "cell_type": "markdown",
   "id": "2cd634b6",
   "metadata": {},
   "source": [
    "### Tipos de conversión\n",
    "\n",
    "Usando el operador + puede adjuntar mas cadenas y construir mas mensajes.\n",
    "\n",
    "Supongase por ejemplo que ud ha calculado la inversión y que quiere sumarizar los resultados en una cadena. Asumiendo los ahorros como enteros y el resultado en flotante ud tendría algo así:\n",
    "\n",
    "print(\"Empezamos con $\" + ahorros + \" y ahora mismo tengo $\" + result + \". Que bien!\")\n",
    "\n",
    "Esto solo no funcionaría, porque no se pueden sumar enteros y cadenas de numeros.\n",
    "\n",
    "Para reparar este error debe explicitamente convertir los tipos de datos.  Más especificamente necesita convertir enteros y booleanos a cadenas por medio de str().\n",
    "\n",
    "Similarmente int() y bool() convierte valores de pytho in otros valores de tipo definido."
   ]
  },
  {
   "cell_type": "markdown",
   "id": "de415686",
   "metadata": {},
   "source": [
    "#### Problema 6\n",
    "\n",
    "Arregle la cadena para imprimir."
   ]
  },
  {
   "cell_type": "code",
   "execution_count": 16,
   "id": "78032609",
   "metadata": {},
   "outputs": [
    {
     "ename": "TypeError",
     "evalue": "must be str, not int",
     "output_type": "error",
     "traceback": [
      "\u001b[1;31m---------------------------------------------------------------------------\u001b[0m",
      "\u001b[1;31mTypeError\u001b[0m                                 Traceback (most recent call last)",
      "\u001b[1;32m<ipython-input-16-224569acf0be>\u001b[0m in \u001b[0;36m<module>\u001b[1;34m\u001b[0m\n\u001b[0;32m      3\u001b[0m \u001b[1;33m\u001b[0m\u001b[0m\n\u001b[0;32m      4\u001b[0m \u001b[1;31m# Fix the printout\u001b[0m\u001b[1;33m\u001b[0m\u001b[1;33m\u001b[0m\u001b[1;33m\u001b[0m\u001b[0m\n\u001b[1;32m----> 5\u001b[1;33m \u001b[0mprint\u001b[0m\u001b[1;33m(\u001b[0m\u001b[1;34m\"Empezamos con $\"\u001b[0m\u001b[1;33m+\u001b[0m \u001b[0m𝑎ℎ𝑜𝑟𝑟𝑜𝑠\u001b[0m \u001b[1;33m+\u001b[0m \u001b[1;34m\"y ahora mismo tengo $\"\u001b[0m \u001b[1;33m+\u001b[0m \u001b[0mresultado\u001b[0m \u001b[1;33m+\u001b[0m \u001b[1;34m\". Que bien!\"\u001b[0m\u001b[1;33m)\u001b[0m\u001b[1;33m\u001b[0m\u001b[1;33m\u001b[0m\u001b[0m\n\u001b[0m",
      "\u001b[1;31mTypeError\u001b[0m: must be str, not int"
     ]
    }
   ],
   "source": [
    "ahorros = 100\n",
    "resultado = 100*1.1**7\n",
    "\n",
    "# Fix the printout\n",
    "print(\"Empezamos con $\"+ 𝑎ℎ𝑜𝑟𝑟𝑜𝑠 + \"y ahora mismo tengo $\" + resultado + \". Que bien!\")"
   ]
  },
  {
   "cell_type": "code",
   "execution_count": 17,
   "id": "81a8f0c7",
   "metadata": {},
   "outputs": [
    {
     "ename": "SyntaxError",
     "evalue": "invalid syntax (<ipython-input-17-fe6d62f66522>, line 5)",
     "output_type": "error",
     "traceback": [
      "\u001b[1;36m  File \u001b[1;32m\"<ipython-input-17-fe6d62f66522>\"\u001b[1;36m, line \u001b[1;32m5\u001b[0m\n\u001b[1;33m    pi_float = ?(?)\u001b[0m\n\u001b[1;37m               ^\u001b[0m\n\u001b[1;31mSyntaxError\u001b[0m\u001b[1;31m:\u001b[0m invalid syntax\n"
     ]
    }
   ],
   "source": [
    "# Definicion de pi\n",
    "pi_string = \"3.1415926\"\n",
    "\n",
    "# convierte pi_string a pi_float\n",
    "pi_float = ?(?)"
   ]
  }
 ],
 "metadata": {
  "kernelspec": {
   "display_name": "Python 3",
   "language": "python",
   "name": "python3"
  },
  "language_info": {
   "codemirror_mode": {
    "name": "ipython",
    "version": 3
   },
   "file_extension": ".py",
   "mimetype": "text/x-python",
   "name": "python",
   "nbconvert_exporter": "python",
   "pygments_lexer": "ipython3",
   "version": "3.6.13"
  }
 },
 "nbformat": 4,
 "nbformat_minor": 5
}
